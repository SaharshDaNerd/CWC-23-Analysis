{
 "cells": [
  {
   "cell_type": "markdown",
   "metadata": {},
   "source": [
    "Importing all the libraries"
   ]
  },
  {
   "cell_type": "code",
   "execution_count": 2,
   "metadata": {},
   "outputs": [],
   "source": [
    "import numpy as np\n",
    "import pandas as pd\n",
    "\n",
    "import matplotlib.pyplot as plt\n",
    "import seaborn as sn\n",
    "\n",
    "import plotly.express as px"
   ]
  },
  {
   "cell_type": "code",
   "execution_count": null,
   "metadata": {},
   "outputs": [],
   "source": [
    "batsmans = pd.read_csv('batting_summary.csv')"
   ]
  },
  {
   "cell_type": "markdown",
   "metadata": {},
   "source": [
    "Analysing the data"
   ]
  },
  {
   "cell_type": "code",
   "execution_count": 4,
   "metadata": {},
   "outputs": [
    {
     "data": {
      "text/html": [
       "<div>\n",
       "<style scoped>\n",
       "    .dataframe tbody tr th:only-of-type {\n",
       "        vertical-align: middle;\n",
       "    }\n",
       "\n",
       "    .dataframe tbody tr th {\n",
       "        vertical-align: top;\n",
       "    }\n",
       "\n",
       "    .dataframe thead th {\n",
       "        text-align: right;\n",
       "    }\n",
       "</style>\n",
       "<table border=\"1\" class=\"dataframe\">\n",
       "  <thead>\n",
       "    <tr style=\"text-align: right;\">\n",
       "      <th></th>\n",
       "      <th>Match_no</th>\n",
       "      <th>Match_Between</th>\n",
       "      <th>Team_Innings</th>\n",
       "      <th>Batsman_Name</th>\n",
       "      <th>Batting_Position</th>\n",
       "      <th>Dismissal</th>\n",
       "      <th>Runs</th>\n",
       "      <th>Balls</th>\n",
       "      <th>4s</th>\n",
       "      <th>6s</th>\n",
       "      <th>Strike_Rate</th>\n",
       "    </tr>\n",
       "  </thead>\n",
       "  <tbody>\n",
       "    <tr>\n",
       "      <th>0</th>\n",
       "      <td>1</td>\n",
       "      <td>England vs New Zealand</td>\n",
       "      <td>England</td>\n",
       "      <td>Jonny Bairstow</td>\n",
       "      <td>1</td>\n",
       "      <td>c Daryl Mitchell b Mitchell Santner</td>\n",
       "      <td>33</td>\n",
       "      <td>35</td>\n",
       "      <td>4</td>\n",
       "      <td>1</td>\n",
       "      <td>94.300</td>\n",
       "    </tr>\n",
       "    <tr>\n",
       "      <th>1</th>\n",
       "      <td>1</td>\n",
       "      <td>England vs New Zealand</td>\n",
       "      <td>England</td>\n",
       "      <td>Dawid Malan</td>\n",
       "      <td>2</td>\n",
       "      <td>c Tom Latham b Matt Henry</td>\n",
       "      <td>14</td>\n",
       "      <td>24</td>\n",
       "      <td>2</td>\n",
       "      <td>0</td>\n",
       "      <td>58.300</td>\n",
       "    </tr>\n",
       "    <tr>\n",
       "      <th>2</th>\n",
       "      <td>1</td>\n",
       "      <td>England vs New Zealand</td>\n",
       "      <td>England</td>\n",
       "      <td>Joe Root</td>\n",
       "      <td>3</td>\n",
       "      <td>b Glenn Phillips</td>\n",
       "      <td>77</td>\n",
       "      <td>86</td>\n",
       "      <td>4</td>\n",
       "      <td>1</td>\n",
       "      <td>89.500</td>\n",
       "    </tr>\n",
       "  </tbody>\n",
       "</table>\n",
       "</div>"
      ],
      "text/plain": [
       "   Match_no           Match_Between Team_Innings    Batsman_Name  \\\n",
       "0         1  England vs New Zealand      England  Jonny Bairstow   \n",
       "1         1  England vs New Zealand      England     Dawid Malan   \n",
       "2         1  England vs New Zealand      England        Joe Root   \n",
       "\n",
       "   Batting_Position                            Dismissal  Runs  Balls  4s  6s  \\\n",
       "0                 1  c Daryl Mitchell b Mitchell Santner    33     35   4   1   \n",
       "1                 2            c Tom Latham b Matt Henry    14     24   2   0   \n",
       "2                 3                     b Glenn Phillips    77     86   4   1   \n",
       "\n",
       "  Strike_Rate  \n",
       "0      94.300  \n",
       "1      58.300  \n",
       "2      89.500  "
      ]
     },
     "execution_count": 4,
     "metadata": {},
     "output_type": "execute_result"
    }
   ],
   "source": [
    "batsmans.head(3)"
   ]
  },
  {
   "cell_type": "code",
   "execution_count": 5,
   "metadata": {},
   "outputs": [
    {
     "data": {
      "text/html": [
       "<div>\n",
       "<style scoped>\n",
       "    .dataframe tbody tr th:only-of-type {\n",
       "        vertical-align: middle;\n",
       "    }\n",
       "\n",
       "    .dataframe tbody tr th {\n",
       "        vertical-align: top;\n",
       "    }\n",
       "\n",
       "    .dataframe thead th {\n",
       "        text-align: right;\n",
       "    }\n",
       "</style>\n",
       "<table border=\"1\" class=\"dataframe\">\n",
       "  <thead>\n",
       "    <tr style=\"text-align: right;\">\n",
       "      <th></th>\n",
       "      <th>Match_no</th>\n",
       "      <th>Match_Between</th>\n",
       "      <th>Team_Innings</th>\n",
       "      <th>Batsman_Name</th>\n",
       "      <th>Batting_Position</th>\n",
       "      <th>Dismissal</th>\n",
       "      <th>Runs</th>\n",
       "      <th>Balls</th>\n",
       "      <th>4s</th>\n",
       "      <th>6s</th>\n",
       "      <th>Strike_Rate</th>\n",
       "    </tr>\n",
       "  </thead>\n",
       "  <tbody>\n",
       "    <tr>\n",
       "      <th>913</th>\n",
       "      <td>48</td>\n",
       "      <td>India vs Australia</td>\n",
       "      <td>Australia</td>\n",
       "      <td>Steve Smith</td>\n",
       "      <td>4</td>\n",
       "      <td>lbw b Jasprit Bumrah</td>\n",
       "      <td>4</td>\n",
       "      <td>9</td>\n",
       "      <td>1</td>\n",
       "      <td>0</td>\n",
       "      <td>44.444</td>\n",
       "    </tr>\n",
       "    <tr>\n",
       "      <th>914</th>\n",
       "      <td>48</td>\n",
       "      <td>India vs Australia</td>\n",
       "      <td>Australia</td>\n",
       "      <td>Marnus Labuschagne</td>\n",
       "      <td>5</td>\n",
       "      <td>not out</td>\n",
       "      <td>58</td>\n",
       "      <td>110</td>\n",
       "      <td>4</td>\n",
       "      <td>0</td>\n",
       "      <td>52.727</td>\n",
       "    </tr>\n",
       "    <tr>\n",
       "      <th>915</th>\n",
       "      <td>48</td>\n",
       "      <td>India vs Australia</td>\n",
       "      <td>Australia</td>\n",
       "      <td>Glenn Maxwell</td>\n",
       "      <td>6</td>\n",
       "      <td>not out</td>\n",
       "      <td>2</td>\n",
       "      <td>1</td>\n",
       "      <td>0</td>\n",
       "      <td>0</td>\n",
       "      <td>200.000</td>\n",
       "    </tr>\n",
       "  </tbody>\n",
       "</table>\n",
       "</div>"
      ],
      "text/plain": [
       "     Match_no       Match_Between Team_Innings        Batsman_Name  \\\n",
       "913        48  India vs Australia    Australia         Steve Smith   \n",
       "914        48  India vs Australia    Australia  Marnus Labuschagne   \n",
       "915        48  India vs Australia    Australia       Glenn Maxwell   \n",
       "\n",
       "     Batting_Position             Dismissal  Runs  Balls  4s  6s Strike_Rate  \n",
       "913                 4  lbw b Jasprit Bumrah     4      9   1   0      44.444  \n",
       "914                 5               not out    58    110   4   0      52.727  \n",
       "915                 6               not out     2      1   0   0     200.000  "
      ]
     },
     "execution_count": 5,
     "metadata": {},
     "output_type": "execute_result"
    }
   ],
   "source": [
    "batsmans.tail(3)"
   ]
  },
  {
   "cell_type": "markdown",
   "metadata": {},
   "source": [
    "Fixing null values by checking with ESPNCricinfo"
   ]
  },
  {
   "cell_type": "code",
   "execution_count": 6,
   "metadata": {},
   "outputs": [
    {
     "data": {
      "text/plain": [
       "Match_no            0\n",
       "Match_Between       0\n",
       "Team_Innings        0\n",
       "Batsman_Name        0\n",
       "Batting_Position    0\n",
       "Dismissal           2\n",
       "Runs                0\n",
       "Balls               0\n",
       "4s                  0\n",
       "6s                  0\n",
       "Strike_Rate         0\n",
       "dtype: int64"
      ]
     },
     "execution_count": 6,
     "metadata": {},
     "output_type": "execute_result"
    }
   ],
   "source": [
    "batsmans.isnull().sum()"
   ]
  },
  {
   "cell_type": "code",
   "execution_count": 7,
   "metadata": {},
   "outputs": [
    {
     "data": {
      "text/html": [
       "<div>\n",
       "<style scoped>\n",
       "    .dataframe tbody tr th:only-of-type {\n",
       "        vertical-align: middle;\n",
       "    }\n",
       "\n",
       "    .dataframe tbody tr th {\n",
       "        vertical-align: top;\n",
       "    }\n",
       "\n",
       "    .dataframe thead th {\n",
       "        text-align: right;\n",
       "    }\n",
       "</style>\n",
       "<table border=\"1\" class=\"dataframe\">\n",
       "  <thead>\n",
       "    <tr style=\"text-align: right;\">\n",
       "      <th></th>\n",
       "      <th>Match_no</th>\n",
       "      <th>Match_Between</th>\n",
       "      <th>Team_Innings</th>\n",
       "      <th>Batsman_Name</th>\n",
       "      <th>Batting_Position</th>\n",
       "      <th>Dismissal</th>\n",
       "      <th>Runs</th>\n",
       "      <th>Balls</th>\n",
       "      <th>4s</th>\n",
       "      <th>6s</th>\n",
       "      <th>Strike_Rate</th>\n",
       "    </tr>\n",
       "  </thead>\n",
       "  <tbody>\n",
       "    <tr>\n",
       "      <th>679</th>\n",
       "      <td>34</td>\n",
       "      <td>Netherlands vs Afghanistan</td>\n",
       "      <td>Afghanistan</td>\n",
       "      <td>Rahmanullah Gurbaz</td>\n",
       "      <td>1</td>\n",
       "      <td>NaN</td>\n",
       "      <td>10</td>\n",
       "      <td>11</td>\n",
       "      <td>2</td>\n",
       "      <td>0</td>\n",
       "      <td>90.909</td>\n",
       "    </tr>\n",
       "    <tr>\n",
       "      <th>740</th>\n",
       "      <td>38</td>\n",
       "      <td>Sri Lanka vs Bangladesh</td>\n",
       "      <td>Sri Lanka</td>\n",
       "      <td>Angelo Mathews</td>\n",
       "      <td>6</td>\n",
       "      <td>NaN</td>\n",
       "      <td>0</td>\n",
       "      <td>0</td>\n",
       "      <td>0</td>\n",
       "      <td>0</td>\n",
       "      <td>---</td>\n",
       "    </tr>\n",
       "  </tbody>\n",
       "</table>\n",
       "</div>"
      ],
      "text/plain": [
       "     Match_no               Match_Between Team_Innings        Batsman_Name  \\\n",
       "679        34  Netherlands vs Afghanistan  Afghanistan  Rahmanullah Gurbaz   \n",
       "740        38     Sri Lanka vs Bangladesh    Sri Lanka      Angelo Mathews   \n",
       "\n",
       "     Batting_Position Dismissal  Runs  Balls  4s  6s Strike_Rate  \n",
       "679                 1       NaN    10     11   2   0      90.909  \n",
       "740                 6       NaN     0      0   0   0         ---  "
      ]
     },
     "execution_count": 7,
     "metadata": {},
     "output_type": "execute_result"
    }
   ],
   "source": [
    "null_rows = batsmans[batsmans.isnull().any(axis=1)]\n",
    "null_rows"
   ]
  },
  {
   "cell_type": "code",
   "execution_count": 8,
   "metadata": {},
   "outputs": [],
   "source": [
    "batsmans.loc[\n",
    "    (batsmans[\"Match_no\"] == 34) & (\n",
    "        batsmans[\"Batsman_Name\"] == \"Rahmanullah Gurbaz\"),\n",
    "    \"Dismissal\"\n",
    "] = \"c Scott Edwards b Logan van Beek\""
   ]
  },
  {
   "cell_type": "code",
   "execution_count": 9,
   "metadata": {},
   "outputs": [],
   "source": [
    "batsmans.loc[\n",
    "    (batsmans[\"Match_no\"] == 38) & (\n",
    "        batsmans[\"Batsman_Name\"] == \"Angelo Mathews\"),\n",
    "    \"Dismissal\"\n",
    "] = \"Timed out\""
   ]
  },
  {
   "cell_type": "code",
   "execution_count": 10,
   "metadata": {},
   "outputs": [
    {
     "data": {
      "text/plain": [
       "Match_no            0\n",
       "Match_Between       0\n",
       "Team_Innings        0\n",
       "Batsman_Name        0\n",
       "Batting_Position    0\n",
       "Dismissal           0\n",
       "Runs                0\n",
       "Balls               0\n",
       "4s                  0\n",
       "6s                  0\n",
       "Strike_Rate         0\n",
       "dtype: int64"
      ]
     },
     "execution_count": 10,
     "metadata": {},
     "output_type": "execute_result"
    }
   ],
   "source": [
    "batsmans.isnull().sum()"
   ]
  },
  {
   "cell_type": "code",
   "execution_count": 11,
   "metadata": {},
   "outputs": [
    {
     "data": {
      "text/html": [
       "<div>\n",
       "<style scoped>\n",
       "    .dataframe tbody tr th:only-of-type {\n",
       "        vertical-align: middle;\n",
       "    }\n",
       "\n",
       "    .dataframe tbody tr th {\n",
       "        vertical-align: top;\n",
       "    }\n",
       "\n",
       "    .dataframe thead th {\n",
       "        text-align: right;\n",
       "    }\n",
       "</style>\n",
       "<table border=\"1\" class=\"dataframe\">\n",
       "  <thead>\n",
       "    <tr style=\"text-align: right;\">\n",
       "      <th></th>\n",
       "      <th>Match_no</th>\n",
       "      <th>Batting_Position</th>\n",
       "      <th>Runs</th>\n",
       "      <th>Balls</th>\n",
       "      <th>4s</th>\n",
       "      <th>6s</th>\n",
       "    </tr>\n",
       "  </thead>\n",
       "  <tbody>\n",
       "    <tr>\n",
       "      <th>count</th>\n",
       "      <td>916.000000</td>\n",
       "      <td>916.000000</td>\n",
       "      <td>916.000000</td>\n",
       "      <td>916.000000</td>\n",
       "      <td>916.000000</td>\n",
       "      <td>916.000000</td>\n",
       "    </tr>\n",
       "    <tr>\n",
       "      <th>mean</th>\n",
       "      <td>24.669214</td>\n",
       "      <td>5.398472</td>\n",
       "      <td>26.510917</td>\n",
       "      <td>29.021834</td>\n",
       "      <td>2.533843</td>\n",
       "      <td>0.727074</td>\n",
       "    </tr>\n",
       "    <tr>\n",
       "      <th>std</th>\n",
       "      <td>14.042355</td>\n",
       "      <td>3.035952</td>\n",
       "      <td>30.788666</td>\n",
       "      <td>28.493381</td>\n",
       "      <td>3.119120</td>\n",
       "      <td>1.482049</td>\n",
       "    </tr>\n",
       "    <tr>\n",
       "      <th>min</th>\n",
       "      <td>1.000000</td>\n",
       "      <td>1.000000</td>\n",
       "      <td>0.000000</td>\n",
       "      <td>0.000000</td>\n",
       "      <td>0.000000</td>\n",
       "      <td>0.000000</td>\n",
       "    </tr>\n",
       "    <tr>\n",
       "      <th>25%</th>\n",
       "      <td>12.000000</td>\n",
       "      <td>3.000000</td>\n",
       "      <td>5.000000</td>\n",
       "      <td>8.000000</td>\n",
       "      <td>0.000000</td>\n",
       "      <td>0.000000</td>\n",
       "    </tr>\n",
       "    <tr>\n",
       "      <th>50%</th>\n",
       "      <td>25.000000</td>\n",
       "      <td>5.000000</td>\n",
       "      <td>15.000000</td>\n",
       "      <td>19.000000</td>\n",
       "      <td>1.000000</td>\n",
       "      <td>0.000000</td>\n",
       "    </tr>\n",
       "    <tr>\n",
       "      <th>75%</th>\n",
       "      <td>37.000000</td>\n",
       "      <td>8.000000</td>\n",
       "      <td>38.000000</td>\n",
       "      <td>40.250000</td>\n",
       "      <td>4.000000</td>\n",
       "      <td>1.000000</td>\n",
       "    </tr>\n",
       "    <tr>\n",
       "      <th>max</th>\n",
       "      <td>48.000000</td>\n",
       "      <td>11.000000</td>\n",
       "      <td>201.000000</td>\n",
       "      <td>143.000000</td>\n",
       "      <td>21.000000</td>\n",
       "      <td>11.000000</td>\n",
       "    </tr>\n",
       "  </tbody>\n",
       "</table>\n",
       "</div>"
      ],
      "text/plain": [
       "         Match_no  Batting_Position        Runs       Balls          4s  \\\n",
       "count  916.000000        916.000000  916.000000  916.000000  916.000000   \n",
       "mean    24.669214          5.398472   26.510917   29.021834    2.533843   \n",
       "std     14.042355          3.035952   30.788666   28.493381    3.119120   \n",
       "min      1.000000          1.000000    0.000000    0.000000    0.000000   \n",
       "25%     12.000000          3.000000    5.000000    8.000000    0.000000   \n",
       "50%     25.000000          5.000000   15.000000   19.000000    1.000000   \n",
       "75%     37.000000          8.000000   38.000000   40.250000    4.000000   \n",
       "max     48.000000         11.000000  201.000000  143.000000   21.000000   \n",
       "\n",
       "               6s  \n",
       "count  916.000000  \n",
       "mean     0.727074  \n",
       "std      1.482049  \n",
       "min      0.000000  \n",
       "25%      0.000000  \n",
       "50%      0.000000  \n",
       "75%      1.000000  \n",
       "max     11.000000  "
      ]
     },
     "execution_count": 11,
     "metadata": {},
     "output_type": "execute_result"
    }
   ],
   "source": [
    "batsmans.describe()"
   ]
  },
  {
   "cell_type": "code",
   "execution_count": 12,
   "metadata": {},
   "outputs": [
    {
     "name": "stdout",
     "output_type": "stream",
     "text": [
      "<class 'pandas.core.frame.DataFrame'>\n",
      "RangeIndex: 916 entries, 0 to 915\n",
      "Data columns (total 11 columns):\n",
      " #   Column            Non-Null Count  Dtype \n",
      "---  ------            --------------  ----- \n",
      " 0   Match_no          916 non-null    int64 \n",
      " 1   Match_Between     916 non-null    object\n",
      " 2   Team_Innings      916 non-null    object\n",
      " 3   Batsman_Name      916 non-null    object\n",
      " 4   Batting_Position  916 non-null    int64 \n",
      " 5   Dismissal         916 non-null    object\n",
      " 6   Runs              916 non-null    int64 \n",
      " 7   Balls             916 non-null    int64 \n",
      " 8   4s                916 non-null    int64 \n",
      " 9   6s                916 non-null    int64 \n",
      " 10  Strike_Rate       916 non-null    object\n",
      "dtypes: int64(6), object(5)\n",
      "memory usage: 78.8+ KB\n"
     ]
    }
   ],
   "source": [
    "batsmans.info()"
   ]
  },
  {
   "cell_type": "code",
   "execution_count": 13,
   "metadata": {},
   "outputs": [],
   "source": [
    "batsmans[\"Strike_Rate\"] = pd.to_numeric(\n",
    "    batsmans[\"Strike_Rate\"], errors=\"coerce\")"
   ]
  },
  {
   "cell_type": "code",
   "execution_count": 14,
   "metadata": {},
   "outputs": [
    {
     "data": {
      "text/html": [
       "<div>\n",
       "<style scoped>\n",
       "    .dataframe tbody tr th:only-of-type {\n",
       "        vertical-align: middle;\n",
       "    }\n",
       "\n",
       "    .dataframe tbody tr th {\n",
       "        vertical-align: top;\n",
       "    }\n",
       "\n",
       "    .dataframe thead th {\n",
       "        text-align: right;\n",
       "    }\n",
       "</style>\n",
       "<table border=\"1\" class=\"dataframe\">\n",
       "  <thead>\n",
       "    <tr style=\"text-align: right;\">\n",
       "      <th></th>\n",
       "      <th>Match_no</th>\n",
       "      <th>Match_Between</th>\n",
       "      <th>Team_Innings</th>\n",
       "      <th>Batsman_Name</th>\n",
       "      <th>Batting_Position</th>\n",
       "      <th>Dismissal</th>\n",
       "      <th>Runs</th>\n",
       "      <th>Balls</th>\n",
       "      <th>4s</th>\n",
       "      <th>6s</th>\n",
       "      <th>Strike_Rate</th>\n",
       "    </tr>\n",
       "  </thead>\n",
       "  <tbody>\n",
       "    <tr>\n",
       "      <th>426</th>\n",
       "      <td>20</td>\n",
       "      <td>South Africa vs England</td>\n",
       "      <td>England</td>\n",
       "      <td>Reece Topley</td>\n",
       "      <td>11</td>\n",
       "      <td>Hurt Absent</td>\n",
       "      <td>0</td>\n",
       "      <td>0</td>\n",
       "      <td>0</td>\n",
       "      <td>0</td>\n",
       "      <td>NaN</td>\n",
       "    </tr>\n",
       "    <tr>\n",
       "      <th>544</th>\n",
       "      <td>27</td>\n",
       "      <td>Australia vs New Zealand</td>\n",
       "      <td>Australia</td>\n",
       "      <td>Josh Hazlewood</td>\n",
       "      <td>11</td>\n",
       "      <td>not out</td>\n",
       "      <td>0</td>\n",
       "      <td>0</td>\n",
       "      <td>0</td>\n",
       "      <td>0</td>\n",
       "      <td>NaN</td>\n",
       "    </tr>\n",
       "    <tr>\n",
       "      <th>577</th>\n",
       "      <td>28</td>\n",
       "      <td>Netherlands vs Bangladesh</td>\n",
       "      <td>Bangladesh</td>\n",
       "      <td>Shoriful Islam</td>\n",
       "      <td>11</td>\n",
       "      <td>not out</td>\n",
       "      <td>0</td>\n",
       "      <td>0</td>\n",
       "      <td>0</td>\n",
       "      <td>0</td>\n",
       "      <td>NaN</td>\n",
       "    </tr>\n",
       "    <tr>\n",
       "      <th>598</th>\n",
       "      <td>29</td>\n",
       "      <td>India vs England</td>\n",
       "      <td>England</td>\n",
       "      <td>Mark Wood</td>\n",
       "      <td>11</td>\n",
       "      <td>b Jasprit Bumrah</td>\n",
       "      <td>0</td>\n",
       "      <td>0</td>\n",
       "      <td>0</td>\n",
       "      <td>0</td>\n",
       "      <td>NaN</td>\n",
       "    </tr>\n",
       "    <tr>\n",
       "      <th>716</th>\n",
       "      <td>36</td>\n",
       "      <td>Australia vs England</td>\n",
       "      <td>England</td>\n",
       "      <td>Mark Wood</td>\n",
       "      <td>11</td>\n",
       "      <td>not out</td>\n",
       "      <td>0</td>\n",
       "      <td>0</td>\n",
       "      <td>0</td>\n",
       "      <td>0</td>\n",
       "      <td>NaN</td>\n",
       "    </tr>\n",
       "    <tr>\n",
       "      <th>740</th>\n",
       "      <td>38</td>\n",
       "      <td>Sri Lanka vs Bangladesh</td>\n",
       "      <td>Sri Lanka</td>\n",
       "      <td>Angelo Mathews</td>\n",
       "      <td>6</td>\n",
       "      <td>Timed out</td>\n",
       "      <td>0</td>\n",
       "      <td>0</td>\n",
       "      <td>0</td>\n",
       "      <td>0</td>\n",
       "      <td>NaN</td>\n",
       "    </tr>\n",
       "  </tbody>\n",
       "</table>\n",
       "</div>"
      ],
      "text/plain": [
       "     Match_no              Match_Between Team_Innings    Batsman_Name  \\\n",
       "426        20    South Africa vs England      England    Reece Topley   \n",
       "544        27   Australia vs New Zealand    Australia  Josh Hazlewood   \n",
       "577        28  Netherlands vs Bangladesh   Bangladesh  Shoriful Islam   \n",
       "598        29           India vs England      England       Mark Wood   \n",
       "716        36       Australia vs England      England       Mark Wood   \n",
       "740        38    Sri Lanka vs Bangladesh    Sri Lanka  Angelo Mathews   \n",
       "\n",
       "     Batting_Position         Dismissal  Runs  Balls  4s  6s  Strike_Rate  \n",
       "426                11       Hurt Absent     0      0   0   0          NaN  \n",
       "544                11           not out     0      0   0   0          NaN  \n",
       "577                11           not out     0      0   0   0          NaN  \n",
       "598                11  b Jasprit Bumrah     0      0   0   0          NaN  \n",
       "716                11           not out     0      0   0   0          NaN  \n",
       "740                 6         Timed out     0      0   0   0          NaN  "
      ]
     },
     "execution_count": 14,
     "metadata": {},
     "output_type": "execute_result"
    }
   ],
   "source": [
    "null_rows = batsmans[batsmans.isnull().any(axis=1)]\n",
    "null_rows"
   ]
  },
  {
   "cell_type": "code",
   "execution_count": 15,
   "metadata": {},
   "outputs": [],
   "source": [
    "batsmans[\"Strike_Rate\"] = batsmans[\"Strike_Rate\"].fillna(0)"
   ]
  },
  {
   "cell_type": "code",
   "execution_count": 16,
   "metadata": {},
   "outputs": [
    {
     "data": {
      "text/plain": [
       "Match_no            0\n",
       "Match_Between       0\n",
       "Team_Innings        0\n",
       "Batsman_Name        0\n",
       "Batting_Position    0\n",
       "Dismissal           0\n",
       "Runs                0\n",
       "Balls               0\n",
       "4s                  0\n",
       "6s                  0\n",
       "Strike_Rate         0\n",
       "dtype: int64"
      ]
     },
     "execution_count": 16,
     "metadata": {},
     "output_type": "execute_result"
    }
   ],
   "source": [
    "batsmans.isnull().sum()"
   ]
  },
  {
   "cell_type": "code",
   "execution_count": 17,
   "metadata": {},
   "outputs": [
    {
     "name": "stdout",
     "output_type": "stream",
     "text": [
      "<class 'pandas.core.frame.DataFrame'>\n",
      "RangeIndex: 916 entries, 0 to 915\n",
      "Data columns (total 11 columns):\n",
      " #   Column            Non-Null Count  Dtype  \n",
      "---  ------            --------------  -----  \n",
      " 0   Match_no          916 non-null    int64  \n",
      " 1   Match_Between     916 non-null    object \n",
      " 2   Team_Innings      916 non-null    object \n",
      " 3   Batsman_Name      916 non-null    object \n",
      " 4   Batting_Position  916 non-null    int64  \n",
      " 5   Dismissal         916 non-null    object \n",
      " 6   Runs              916 non-null    int64  \n",
      " 7   Balls             916 non-null    int64  \n",
      " 8   4s                916 non-null    int64  \n",
      " 9   6s                916 non-null    int64  \n",
      " 10  Strike_Rate       916 non-null    float64\n",
      "dtypes: float64(1), int64(6), object(4)\n",
      "memory usage: 78.8+ KB\n"
     ]
    }
   ],
   "source": [
    "batsmans.info()"
   ]
  },
  {
   "cell_type": "code",
   "execution_count": 19,
   "metadata": {},
   "outputs": [],
   "source": [
    "batsmans.to_csv(\"cleaned_batsman_data.csv\", index=False)"
   ]
  }
 ],
 "metadata": {
  "kernelspec": {
   "display_name": "Python 3",
   "language": "python",
   "name": "python3"
  },
  "language_info": {
   "codemirror_mode": {
    "name": "ipython",
    "version": 3
   },
   "file_extension": ".py",
   "mimetype": "text/x-python",
   "name": "python",
   "nbconvert_exporter": "python",
   "pygments_lexer": "ipython3",
   "version": "3.11.0"
  }
 },
 "nbformat": 4,
 "nbformat_minor": 2
}
